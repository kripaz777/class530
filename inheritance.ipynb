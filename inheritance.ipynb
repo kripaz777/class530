{
 "cells": [
  {
   "cell_type": "code",
   "execution_count": 2,
   "id": "48cee9c0",
   "metadata": {},
   "outputs": [],
   "source": [
    "# class A:\n",
    "#     <operation>\n",
    "    \n",
    "# class B(A):\n",
    "#     <operations>\n",
    "    \n",
    "# obj = B()"
   ]
  },
  {
   "cell_type": "code",
   "execution_count": 5,
   "id": "9bfaf457",
   "metadata": {},
   "outputs": [
    {
     "name": "stdout",
     "output_type": "stream",
     "text": [
      "Hello World I am Ram. I am 67\n",
      "Ram 67\n"
     ]
    }
   ],
   "source": [
    "class A:\n",
    "    def __init__(self):\n",
    "        self.name = \"Ram\"\n",
    "        self.age = 67\n",
    "        \n",
    "    def a(self):\n",
    "        print(self.name,self.age)\n",
    "        \n",
    "class B(A):\n",
    "    def info(this):\n",
    "        print(f\"Hello World I am {this.name}. I am {this.age}\")\n",
    "        \n",
    "obj = B()\n",
    "obj.info()\n",
    "obj.a()\n",
    "# print(obj.name)\n",
    "# print(obj.age)"
   ]
  },
  {
   "cell_type": "code",
   "execution_count": null,
   "id": "727df971",
   "metadata": {},
   "outputs": [],
   "source": [
    "class A:\n",
    "    def __init__(self,name,age):\n",
    "        self.name = name\n",
    "        self.age = age\n",
    "        \n",
    "    def a(self):\n",
    "        print(self.name,self.age)\n",
    "        \n",
    "class B(A):\n",
    "    def info(this):\n",
    "        print(f\"Hello World I am {this.name}. I am {this.age}\")\n",
    "\n",
    "name = input(\"Enter name = \")\n",
    "age = int(input(\"Enter age = \"))\n",
    "\n",
    "obj = B(name,age)\n",
    "obj.info()\n",
    "obj.a()\n",
    "# print(obj.name)\n",
    "# print(obj.age)"
   ]
  },
  {
   "cell_type": "code",
   "execution_count": 1,
   "id": "5f0a0290",
   "metadata": {},
   "outputs": [
    {
     "name": "stdout",
     "output_type": "stream",
     "text": [
      "Enter name = Ram\n",
      "Enter age = 78\n",
      "Hello World I am Ram. I am 78\n",
      "78\n"
     ]
    }
   ],
   "source": [
    "class A:\n",
    "    def __init__(self,age):\n",
    "        self.age = age\n",
    "        \n",
    "    def a(self):\n",
    "        print(self.age)\n",
    "        \n",
    "class B(A):\n",
    "    def __init__(self,name,age):\n",
    "        self.name = name\n",
    "        A.__init__(self,age)\n",
    "        \n",
    "    def info(this):\n",
    "        print(f\"Hello World I am {this.name}. I am {this.age}\")\n",
    "\n",
    "name = input(\"Enter name = \")\n",
    "age = int(input(\"Enter age = \"))\n",
    "\n",
    "obj = B(name,age)\n",
    "obj.info()\n",
    "obj.a()\n",
    "# print(obj.name)\n",
    "# print(obj.age)"
   ]
  },
  {
   "cell_type": "code",
   "execution_count": 2,
   "id": "d75f7a90",
   "metadata": {},
   "outputs": [],
   "source": [
    "# Multi level"
   ]
  },
  {
   "cell_type": "code",
   "execution_count": null,
   "id": "7e1a9130",
   "metadata": {},
   "outputs": [],
   "source": [
    "class A:\n",
    "    pass\n",
    "\n",
    "class B(A):\n",
    "    pass\n",
    "\n",
    "class C(B):\n",
    "    pass\n",
    "\n",
    "obj = C()"
   ]
  },
  {
   "cell_type": "code",
   "execution_count": 7,
   "id": "79acbe99",
   "metadata": {},
   "outputs": [
    {
     "name": "stdout",
     "output_type": "stream",
     "text": [
      "Enter name = Ram\n",
      "Enter age = 89\n",
      "Enter addressKathmandu\n",
      "Hello World I am from Kathmandu. I am 89\n",
      "Ram 89\n"
     ]
    }
   ],
   "source": [
    "class A:\n",
    "    def __init__(self,add):\n",
    "        self.add = add\n",
    "        \n",
    "    def a(self):\n",
    "        print(self.name,self.age)\n",
    "        \n",
    "class B(A):\n",
    "    def __init__(self,age,add):\n",
    "        self.age = age\n",
    "        A.__init__(self,add)\n",
    "        \n",
    "    def info(this):\n",
    "        print(f\"Hello World I am from {this.add}. I am {this.age}\")\n",
    "\n",
    "class C(B):\n",
    "    def __init__(self,name,age,add,name):\n",
    "        self.name = name\n",
    "        B.__init__(self,age,add)\n",
    "        \n",
    "name = input(\"Enter name = \")\n",
    "age = int(input(\"Enter age = \"))\n",
    "add = input(\"Enter address\")\n",
    "\n",
    "obj = C(name,age,add)\n",
    "obj.info()\n",
    "obj.a()\n",
    "# print(obj.name)\n",
    "# print(obj.age)"
   ]
  },
  {
   "cell_type": "code",
   "execution_count": 8,
   "id": "c0e69166",
   "metadata": {},
   "outputs": [
    {
     "name": "stdout",
     "output_type": "stream",
     "text": [
      "Enter name = Ram\n",
      "Enter age = 34\n",
      "Enter addressKathmandu\n",
      "Hello World. I am 34\n",
      "Kathmandu Ram\n"
     ]
    }
   ],
   "source": [
    "class A:\n",
    "    def __init__(self,add):\n",
    "        self.add = add\n",
    "        \n",
    "    def a(self):\n",
    "        print(self.add,self.name)\n",
    "        \n",
    "class B:\n",
    "    def __init__(self,age):\n",
    "        self.age = age\n",
    "    \n",
    "    def info(this):\n",
    "        print(f\"Hello World. I am {this.age}\")\n",
    "\n",
    "class C(A,B):\n",
    "    def __init__(self,name,age,add):\n",
    "        self.name = name\n",
    "        B.__init__(self,age)\n",
    "        A.__init__(self,add)\n",
    "        \n",
    "name = input(\"Enter name = \")\n",
    "age = int(input(\"Enter age = \"))\n",
    "add = input(\"Enter address\")\n",
    "\n",
    "obj = C(name,age,add)\n",
    "obj.info()\n",
    "obj.a()\n",
    "# print(obj.name)\n",
    "# print(obj.age)"
   ]
  },
  {
   "cell_type": "code",
   "execution_count": 10,
   "id": "043fc43b",
   "metadata": {},
   "outputs": [
    {
     "name": "stdout",
     "output_type": "stream",
     "text": [
      "Ram\n",
      "34\n",
      "Kathmandu\n"
     ]
    }
   ],
   "source": [
    "#public members\n",
    "class Info:\n",
    "    def __init__(self,name,age,add):\n",
    "        self.name = name\n",
    "        self.age = age\n",
    "        self.add = add\n",
    "        \n",
    "obj = Info(\"Ram\",34,\"Kathmandu\")\n",
    "print(obj.name)\n",
    "print(obj.age)\n",
    "print(obj.add)"
   ]
  },
  {
   "cell_type": "code",
   "execution_count": 16,
   "id": "5ebcf673",
   "metadata": {},
   "outputs": [
    {
     "name": "stdout",
     "output_type": "stream",
     "text": [
      "Ram\n",
      "34\n",
      "Kathmandu\n"
     ]
    }
   ],
   "source": [
    "# protected members\n",
    "class Info:\n",
    "    def __init__(self,name,age,add):\n",
    "        self._name = name\n",
    "        self._age = age\n",
    "        self._add = add\n",
    "        \n",
    "obj = Info(\"Ram\",34,\"Kathmandu\")\n",
    "print(obj._name)\n",
    "print(obj._age)\n",
    "print(obj._add)"
   ]
  },
  {
   "cell_type": "code",
   "execution_count": 17,
   "id": "74d60041",
   "metadata": {},
   "outputs": [
    {
     "ename": "AttributeError",
     "evalue": "'Info' object has no attribute '__name'",
     "output_type": "error",
     "traceback": [
      "\u001b[1;31m---------------------------------------------------------------------------\u001b[0m",
      "\u001b[1;31mAttributeError\u001b[0m                            Traceback (most recent call last)",
      "Input \u001b[1;32mIn [17]\u001b[0m, in \u001b[0;36m<cell line: 9>\u001b[1;34m()\u001b[0m\n\u001b[0;32m      6\u001b[0m         \u001b[38;5;28mself\u001b[39m\u001b[38;5;241m.\u001b[39m__add \u001b[38;5;241m=\u001b[39m add\n\u001b[0;32m      8\u001b[0m obj \u001b[38;5;241m=\u001b[39m Info(\u001b[38;5;124m\"\u001b[39m\u001b[38;5;124mRam\u001b[39m\u001b[38;5;124m\"\u001b[39m,\u001b[38;5;241m34\u001b[39m,\u001b[38;5;124m\"\u001b[39m\u001b[38;5;124mKathmandu\u001b[39m\u001b[38;5;124m\"\u001b[39m)\n\u001b[1;32m----> 9\u001b[0m \u001b[38;5;28mprint\u001b[39m(\u001b[43mobj\u001b[49m\u001b[38;5;241;43m.\u001b[39;49m\u001b[43m__name\u001b[49m)\n\u001b[0;32m     10\u001b[0m \u001b[38;5;28mprint\u001b[39m(obj\u001b[38;5;241m.\u001b[39m__age)\n\u001b[0;32m     11\u001b[0m \u001b[38;5;28mprint\u001b[39m(obj\u001b[38;5;241m.\u001b[39m__add)\n",
      "\u001b[1;31mAttributeError\u001b[0m: 'Info' object has no attribute '__name'"
     ]
    }
   ],
   "source": [
    "# protected members\n",
    "class Info:\n",
    "    def __init__(self,name,age,add):\n",
    "        self.__name = name\n",
    "        self.__age = age\n",
    "        self.__add = add\n",
    "    \n",
    "        \n",
    "obj = Info(\"Ram\",34,\"Kathmandu\")\n",
    "print(obj.__name)\n",
    "print(obj.__age)\n",
    "print(obj.__add)"
   ]
  },
  {
   "cell_type": "code",
   "execution_count": 18,
   "id": "a2cef78e",
   "metadata": {},
   "outputs": [
    {
     "name": "stdout",
     "output_type": "stream",
     "text": [
      "Ram\n",
      "34\n",
      "Kathmandu\n"
     ]
    }
   ],
   "source": [
    "# protected members\n",
    "class Info:\n",
    "    def __init__(self,name,age,add):\n",
    "        self.__name = name\n",
    "        self.__age = age\n",
    "        self.__add = add\n",
    "    \n",
    "        \n",
    "obj = Info(\"Ram\",34,\"Kathmandu\")\n",
    "print(obj._Info__name)\n",
    "print(obj._Info__age)\n",
    "print(obj._Info__add)"
   ]
  },
  {
   "cell_type": "code",
   "execution_count": null,
   "id": "633f7e83",
   "metadata": {},
   "outputs": [],
   "source": [
    "class A:\n",
    "    def __init__(self,age):\n",
    "        self._age = age\n",
    "        \n",
    "    def a(self):\n",
    "        print(self.age)\n",
    "        \n",
    "class B(A):\n",
    "    def __init__(self,name,age):\n",
    "        self.__name = name\n",
    "        A.__init__(self,age)\n",
    "        \n",
    "    def info(this):\n",
    "        print(f\"Hello World I am {this.__name}. I am {this._age}\")\n",
    "\n",
    "name = input(\"Enter name = \")\n",
    "age = int(input(\"Enter age = \"))\n",
    "\n",
    "obj = B(name,age)\n",
    "obj.info()\n",
    "obj.a()\n",
    "# print(obj.name)\n",
    "# print(obj.age)"
   ]
  },
  {
   "cell_type": "code",
   "execution_count": 19,
   "id": "9de2dc23",
   "metadata": {},
   "outputs": [
    {
     "name": "stdout",
     "output_type": "stream",
     "text": [
      "Enter name = Ram\n",
      "Enter age = 78\n",
      "Enter addressKathmandu\n",
      "Hello World. I am 78\n",
      "Kathmandu\n"
     ]
    }
   ],
   "source": [
    "class A:\n",
    "    def __init__(self,add):\n",
    "        self.add = add\n",
    "        \n",
    "    def a(self):\n",
    "        print(self.add)\n",
    "        \n",
    "class B:\n",
    "    def __init__(self,age):\n",
    "        self.__age = age\n",
    "    \n",
    "    def info(this):\n",
    "        print(f\"Hello World. I am {this.__age}\")\n",
    "\n",
    "class C(A,B):\n",
    "    def __init__(self,name,age,add):\n",
    "        self.__name = name\n",
    "        B.__init__(self,age)\n",
    "        A.__init__(self,add)\n",
    "        \n",
    "name = input(\"Enter name = \")\n",
    "age = int(input(\"Enter age = \"))\n",
    "add = input(\"Enter address\")\n",
    "\n",
    "obj = C(name,age,add)\n",
    "obj.info()\n",
    "obj.a()\n",
    "# print(obj.name)\n",
    "# print(obj.age)"
   ]
  },
  {
   "cell_type": "code",
   "execution_count": null,
   "id": "d320ec49",
   "metadata": {},
   "outputs": [],
   "source": [
    "# name membgling\n",
    "# return type\n",
    "# super function"
   ]
  },
  {
   "cell_type": "code",
   "execution_count": null,
   "id": "cea334f9",
   "metadata": {},
   "outputs": [],
   "source": [
    "class A:\n",
    "    def __init__(self,add):\n",
    "        self.add = add\n",
    "        \n",
    "    def a(self):\n",
    "        print(self.add)\n",
    "        \n",
    "class B:\n",
    "    def __init__(self,age):\n",
    "        self.__age = age\n",
    "    \n",
    "    def info(this):\n",
    "        print(f\"Hello World. I am {this.__age}\")\n",
    "        \n",
    "    def return_info(this):\n",
    "        return self.__age\n",
    "\n",
    "class C(A,B):\n",
    "    def __init__(self,name,age,add):\n",
    "        self.__name = name\n",
    "        B.__init__(self,age)\n",
    "        A.__init__(self,add)\n",
    "        \n",
    "name = input(\"Enter name = \")\n",
    "age = int(input(\"Enter age = \"))\n",
    "add = input(\"Enter address\")\n",
    "\n",
    "obj = C(name,age,add)\n",
    "obj.info()\n",
    "obj.a()\n",
    "my_age = obj.return_info()\n",
    "print(my_age)\n",
    "# print(obj.name)\n",
    "# print(obj.age)"
   ]
  },
  {
   "cell_type": "code",
   "execution_count": 25,
   "id": "0b8aed5c",
   "metadata": {},
   "outputs": [
    {
     "name": "stdout",
     "output_type": "stream",
     "text": [
      "Enter name = Ram\n",
      "Enter age = 78\n",
      "Hello World I am Ram. I am 78\n",
      "78\n",
      "78\n"
     ]
    },
    {
     "data": {
      "text/plain": [
       "78"
      ]
     },
     "execution_count": 25,
     "metadata": {},
     "output_type": "execute_result"
    }
   ],
   "source": [
    "class A:\n",
    "    def __init__(self,age):\n",
    "        self.__age = age\n",
    "        \n",
    "    def a(self):\n",
    "        return self.__age\n",
    "        \n",
    "class B(A):\n",
    "    def __init__(self,name,age):\n",
    "        self.__name = name\n",
    "        A.__init__(self,age)\n",
    "        \n",
    "    def info(this):\n",
    "        print(f\"Hello World I am {this.__name}. I am {super().a()}\")\n",
    "        print(super().a())\n",
    "        print(A.a(this))\n",
    "\n",
    "name = input(\"Enter name = \")\n",
    "age = int(input(\"Enter age = \"))\n",
    "\n",
    "obj = B(name,age)\n",
    "obj.info()\n",
    "obj.a()\n",
    "# print(obj.name)\n",
    "# print(obj.age)"
   ]
  },
  {
   "cell_type": "code",
   "execution_count": null,
   "id": "14ecd7c8",
   "metadata": {},
   "outputs": [],
   "source": []
  }
 ],
 "metadata": {
  "kernelspec": {
   "display_name": "Python 3 (ipykernel)",
   "language": "python",
   "name": "python3"
  },
  "language_info": {
   "codemirror_mode": {
    "name": "ipython",
    "version": 3
   },
   "file_extension": ".py",
   "mimetype": "text/x-python",
   "name": "python",
   "nbconvert_exporter": "python",
   "pygments_lexer": "ipython3",
   "version": "3.9.12"
  }
 },
 "nbformat": 4,
 "nbformat_minor": 5
}
