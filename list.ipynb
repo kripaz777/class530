{
 "cells": [
  {
   "cell_type": "code",
   "execution_count": 1,
   "id": "c61c39e2",
   "metadata": {},
   "outputs": [],
   "source": [
    "# Python collection\n",
    "# List\n",
    "# Tuple\n",
    "# Dictionary\n",
    "# Set"
   ]
  },
  {
   "cell_type": "code",
   "execution_count": 2,
   "id": "8ba6f3dc",
   "metadata": {},
   "outputs": [],
   "source": [
    "# List\n",
    "# -Indexing\n",
    "# -Multiple data and duplicate data\n",
    "# -Ordered\n",
    "# -Mutable"
   ]
  },
  {
   "cell_type": "code",
   "execution_count": 4,
   "id": "da46e739",
   "metadata": {},
   "outputs": [
    {
     "name": "stdout",
     "output_type": "stream",
     "text": [
      "<class 'list'>\n",
      "<class 'list'>\n",
      "<class 'list'>\n"
     ]
    }
   ],
   "source": [
    "b = []\n",
    "c = list()\n",
    "a = ['Apple','Ball','Cat','Fish']\n",
    "d = ['Apple',1,2,3,5.5,3.5]\n",
    "print(type(a))\n",
    "print(type(b))\n",
    "print(type(c))"
   ]
  },
  {
   "cell_type": "code",
   "execution_count": 9,
   "id": "c8c701af",
   "metadata": {},
   "outputs": [
    {
     "name": "stdout",
     "output_type": "stream",
     "text": [
      "Cat\n",
      "['Apple', 'Ball', 'Cat', 'Fish']\n",
      "['Apple', 'Cat']\n"
     ]
    }
   ],
   "source": [
    "a = ['Apple','Ball','Cat','Fish']\n",
    "print(a[2])\n",
    "print(a[0:4])\n",
    "print(a[0:4:2])"
   ]
  },
  {
   "cell_type": "code",
   "execution_count": 10,
   "id": "07c652a0",
   "metadata": {},
   "outputs": [
    {
     "name": "stdout",
     "output_type": "stream",
     "text": [
      "['Apple', 'Ball', 'Cat', 'Fish']\n"
     ]
    }
   ],
   "source": [
    "a = ['Apple','Ball','Cat','Fish']\n",
    "print(a)"
   ]
  },
  {
   "cell_type": "code",
   "execution_count": 12,
   "id": "a21325be",
   "metadata": {},
   "outputs": [
    {
     "name": "stdout",
     "output_type": "stream",
     "text": [
      "['Apple', 'Ball', 'Cat', 'Fish', 'Apple', 1, 2, 3, 5.5, 3.5]\n"
     ]
    }
   ],
   "source": [
    "# + *\n",
    "a = ['Apple','Ball','Cat','Fish']\n",
    "d = ['Apple',1,2,3,5.5,3.5]\n",
    "c = a+d\n",
    "print(c)"
   ]
  },
  {
   "cell_type": "code",
   "execution_count": 13,
   "id": "b8477bbb",
   "metadata": {},
   "outputs": [
    {
     "name": "stdout",
     "output_type": "stream",
     "text": [
      "['Apple', 'Ball', 'Cat', 'Fish', 'Apple', 'Ball', 'Cat', 'Fish']\n"
     ]
    }
   ],
   "source": [
    "a = ['Apple','Ball','Cat','Fish']\n",
    "print(a*2)"
   ]
  },
  {
   "cell_type": "code",
   "execution_count": 14,
   "id": "3b5d0658",
   "metadata": {},
   "outputs": [
    {
     "name": "stdout",
     "output_type": "stream",
     "text": [
      "[1, 2, 3, 4, 5, 1, 2, 3, 4, 5]\n"
     ]
    }
   ],
   "source": [
    "a = [1,2,3,4,5]\n",
    "print(a*2)"
   ]
  },
  {
   "cell_type": "code",
   "execution_count": 16,
   "id": "ace519cb",
   "metadata": {},
   "outputs": [
    {
     "name": "stdout",
     "output_type": "stream",
     "text": [
      "Enter n = 5\n",
      "Enter x = 234\n",
      "Enter x = 656\n",
      "Enter x = 678\n",
      "Enter x = 34\n",
      "Enter x = 67\n",
      "[234, 656, 678, 34, 67]\n"
     ]
    }
   ],
   "source": [
    "l = []\n",
    "n = int(input(\"Enter n = \"))\n",
    "for i in range(n):\n",
    "    x = int(input(\"Enter x = \"))\n",
    "    l = l+[x]\n",
    "print(l)"
   ]
  },
  {
   "cell_type": "code",
   "execution_count": 19,
   "id": "d5fb9153",
   "metadata": {},
   "outputs": [
    {
     "name": "stdout",
     "output_type": "stream",
     "text": [
      "The max value is =  678\n",
      "The max value is =  34\n",
      "The sum =  1669\n",
      "Average =  333.8\n",
      "[34, 67, 234, 656, 678]\n",
      "[678, 656, 234, 67, 34]\n"
     ]
    }
   ],
   "source": [
    "print(\"The max value is = \",max(l))\n",
    "print(\"The max value is = \",min(l))\n",
    "print(\"The sum = \",sum(l))\n",
    "print(\"Average = \",sum(l)/n)\n",
    "l.sort()\n",
    "print(l)\n",
    "l.reverse()\n",
    "print(l)"
   ]
  },
  {
   "cell_type": "code",
   "execution_count": 20,
   "id": "09708c41",
   "metadata": {},
   "outputs": [
    {
     "name": "stdout",
     "output_type": "stream",
     "text": [
      "['Ball', 'Xray', 'Zebra', 'apple', 'cat']\n"
     ]
    }
   ],
   "source": [
    "a = [\"apple\",'Ball','cat','Zebra','Xray']\n",
    "a.sort()\n",
    "print(a)"
   ]
  },
  {
   "cell_type": "code",
   "execution_count": 22,
   "id": "772844ed",
   "metadata": {},
   "outputs": [
    {
     "data": {
      "text/plain": [
       "'ball'"
      ]
     },
     "execution_count": 22,
     "metadata": {},
     "output_type": "execute_result"
    }
   ],
   "source": [
    "a[0].lower()"
   ]
  },
  {
   "cell_type": "code",
   "execution_count": 24,
   "id": "e8f5b4a7",
   "metadata": {},
   "outputs": [
    {
     "name": "stdout",
     "output_type": "stream",
     "text": [
      "apple\n",
      "Ball\n",
      "cat\n",
      "Zebra\n",
      "Xray\n"
     ]
    }
   ],
   "source": [
    "a = [\"apple\",'Ball','cat','Zebra','Xray']\n",
    "for i in a:\n",
    "    print(i)"
   ]
  },
  {
   "cell_type": "code",
   "execution_count": 25,
   "id": "7138af1c",
   "metadata": {},
   "outputs": [
    {
     "data": {
      "text/plain": [
       "5"
      ]
     },
     "execution_count": 25,
     "metadata": {},
     "output_type": "execute_result"
    }
   ],
   "source": [
    "len(a)"
   ]
  },
  {
   "cell_type": "code",
   "execution_count": 26,
   "id": "0d99908f",
   "metadata": {},
   "outputs": [
    {
     "name": "stdout",
     "output_type": "stream",
     "text": [
      "apple\n",
      "Ball\n",
      "cat\n",
      "Zebra\n",
      "Xray\n"
     ]
    }
   ],
   "source": [
    "a = [\"apple\",'Ball','cat','Zebra','Xray']\n",
    "l = len(a)\n",
    "for i in range(l):\n",
    "    print(a[i])"
   ]
  },
  {
   "cell_type": "code",
   "execution_count": 31,
   "id": "5585d33b",
   "metadata": {},
   "outputs": [
    {
     "name": "stdout",
     "output_type": "stream",
     "text": [
      "Yes\n",
      "1\n"
     ]
    }
   ],
   "source": [
    "a = [\"apple\",'Ball','cat','Zebra','Xray']\n",
    "if \"apple\" in a:\n",
    "    print(\"Yes\")\n",
    "    print(a.count(\"apple\"))"
   ]
  },
  {
   "cell_type": "code",
   "execution_count": 32,
   "id": "2e851c62",
   "metadata": {},
   "outputs": [],
   "source": [
    "# append() extend() insert()"
   ]
  },
  {
   "cell_type": "code",
   "execution_count": 33,
   "id": "b0edaff2",
   "metadata": {},
   "outputs": [
    {
     "name": "stdout",
     "output_type": "stream",
     "text": [
      "['apple', 'Ball', 'cat', 'Zebra', 'Xray', 'Fish']\n"
     ]
    }
   ],
   "source": [
    "a = [\"apple\",'Ball','cat','Zebra','Xray']\n",
    "a.append('Fish')\n",
    "print(a)"
   ]
  },
  {
   "cell_type": "code",
   "execution_count": 34,
   "id": "9ed215eb",
   "metadata": {},
   "outputs": [
    {
     "name": "stdout",
     "output_type": "stream",
     "text": [
      "['apple', 'Fish', 'Ball', 'cat', 'Zebra', 'Xray']\n"
     ]
    }
   ],
   "source": [
    "a = [\"apple\",'Ball','cat','Zebra','Xray']\n",
    "a.insert(1,'Fish')\n",
    "print(a)"
   ]
  },
  {
   "cell_type": "code",
   "execution_count": 35,
   "id": "4bcfdeb6",
   "metadata": {},
   "outputs": [
    {
     "data": {
      "text/plain": [
       "['apple', 'Ball', 'cat', 'Zebra', 'Xray', 1, 2, 3, 4]"
      ]
     },
     "execution_count": 35,
     "metadata": {},
     "output_type": "execute_result"
    }
   ],
   "source": [
    "a = [\"apple\",'Ball','cat','Zebra','Xray']\n",
    "b = [1,2,3,4]\n",
    "a.extend(b)\n",
    "a"
   ]
  },
  {
   "cell_type": "code",
   "execution_count": 37,
   "id": "4cf95fc9",
   "metadata": {},
   "outputs": [
    {
     "data": {
      "text/plain": [
       "['A', 'p', 'p', 'l', 'e']"
      ]
     },
     "execution_count": 37,
     "metadata": {},
     "output_type": "execute_result"
    }
   ],
   "source": [
    "a = \"Apple\"\n",
    "b = list(a)\n",
    "b"
   ]
  },
  {
   "cell_type": "code",
   "execution_count": 38,
   "id": "cf3c5417",
   "metadata": {},
   "outputs": [
    {
     "data": {
      "text/plain": [
       "\"['A', 'p', 'p', 'l', 'e']\""
      ]
     },
     "execution_count": 38,
     "metadata": {},
     "output_type": "execute_result"
    }
   ],
   "source": [
    "c = str(b)\n",
    "c"
   ]
  },
  {
   "cell_type": "code",
   "execution_count": null,
   "id": "3273fea5",
   "metadata": {},
   "outputs": [],
   "source": [
    "l = []\n",
    "n = int(input(\"Enter n = \"))\n",
    "for i in range(n):\n",
    "    x = int(input(\"Enter x = \"))\n",
    "    l.append(x)\n",
    "print(l)"
   ]
  },
  {
   "cell_type": "code",
   "execution_count": 40,
   "id": "9f69afa4",
   "metadata": {},
   "outputs": [
    {
     "data": {
      "text/plain": [
       "['Ant', 'Ball', 'cat', 'Zebra', 'Xray']"
      ]
     },
     "execution_count": 40,
     "metadata": {},
     "output_type": "execute_result"
    }
   ],
   "source": [
    "# Update or edit\n",
    "a = ['apple', 'Ball', 'cat', 'Zebra', 'Xray']\n",
    "a[0] = \"Ant\"\n",
    "a"
   ]
  },
  {
   "cell_type": "code",
   "execution_count": 41,
   "id": "ea0f155f",
   "metadata": {},
   "outputs": [
    {
     "data": {
      "text/plain": [
       "['APPLE', 'Ball', 'cat', 'Zebra', 'Xray']"
      ]
     },
     "execution_count": 41,
     "metadata": {},
     "output_type": "execute_result"
    }
   ],
   "source": [
    "a = ['apple', 'Ball', 'cat', 'Zebra', 'Xray']\n",
    "a[0] = a[0].upper()\n",
    "a"
   ]
  },
  {
   "cell_type": "code",
   "execution_count": 42,
   "id": "8b5a73f9",
   "metadata": {},
   "outputs": [
    {
     "name": "stdout",
     "output_type": "stream",
     "text": [
      "['Ball', 'cat', 'Zebra', 'Xray']\n"
     ]
    }
   ],
   "source": [
    "# del remove() pop()\n",
    "a = ['apple', 'Ball', 'cat', 'Zebra', 'Xray']\n",
    "del a[0]\n",
    "print(a)"
   ]
  },
  {
   "cell_type": "code",
   "execution_count": 43,
   "id": "2047da56",
   "metadata": {},
   "outputs": [
    {
     "name": "stdout",
     "output_type": "stream",
     "text": [
      "['cat', 'Zebra', 'Xray']\n"
     ]
    }
   ],
   "source": [
    "a = ['apple', 'Ball', 'cat', 'Zebra', 'Xray']\n",
    "del a[0:2]\n",
    "print(a)"
   ]
  },
  {
   "cell_type": "code",
   "execution_count": 4,
   "id": "731c8576",
   "metadata": {},
   "outputs": [
    {
     "name": "stdout",
     "output_type": "stream",
     "text": [
      "['Ball', 'Zebra']\n"
     ]
    }
   ],
   "source": [
    "a = ['apple', 'Ball', 'cat', 'Zebra', 'Xray']\n",
    "del a[0:6:2]\n",
    "print(a)"
   ]
  },
  {
   "cell_type": "code",
   "execution_count": 44,
   "id": "d65e62ee",
   "metadata": {},
   "outputs": [
    {
     "name": "stdout",
     "output_type": "stream",
     "text": [
      "['Ball', 'cat', 'Zebra', 'Xray']\n",
      "apple\n"
     ]
    }
   ],
   "source": [
    "a = ['apple', 'Ball', 'cat', 'Zebra', 'Xray']\n",
    "b = a.pop(0)\n",
    "print(a)\n",
    "print(b)"
   ]
  },
  {
   "cell_type": "code",
   "execution_count": 45,
   "id": "970c3d66",
   "metadata": {},
   "outputs": [
    {
     "data": {
      "text/plain": [
       "['apple', 'Ball', 'cat', 'Zebra']"
      ]
     },
     "execution_count": 45,
     "metadata": {},
     "output_type": "execute_result"
    }
   ],
   "source": [
    "a = ['apple', 'Ball', 'cat', 'Zebra', 'Xray','apple']\n",
    "a.pop()\n",
    "a"
   ]
  },
  {
   "cell_type": "code",
   "execution_count": 46,
   "id": "31b96c2f",
   "metadata": {},
   "outputs": [
    {
     "data": {
      "text/plain": [
       "['Ball', 'cat', 'Zebra', 'Xray']"
      ]
     },
     "execution_count": 46,
     "metadata": {},
     "output_type": "execute_result"
    }
   ],
   "source": [
    "a = ['apple', 'Ball', 'cat', 'Zebra', 'Xray']\n",
    "a.remove('apple')\n",
    "a"
   ]
  },
  {
   "cell_type": "code",
   "execution_count": 1,
   "id": "d5135b43",
   "metadata": {},
   "outputs": [],
   "source": [
    "# WAP to calulate index of any value\n",
    "# WAP to remove multiple value"
   ]
  },
  {
   "cell_type": "code",
   "execution_count": 5,
   "id": "e6d55c99",
   "metadata": {},
   "outputs": [
    {
     "name": "stdout",
     "output_type": "stream",
     "text": [
      "Enter any value = apple\n",
      "0\n",
      "5\n"
     ]
    }
   ],
   "source": [
    "# WAP to calulate index of any value\n",
    "a = ['apple', 'Ball', 'cat', 'Zebra', 'Xray','apple']\n",
    "b = input(\"Enter any value = \")\n",
    "for i in range(len(a)):\n",
    "    if a[i] == b:\n",
    "        print(i)"
   ]
  },
  {
   "cell_type": "code",
   "execution_count": 11,
   "id": "1a51695a",
   "metadata": {},
   "outputs": [
    {
     "name": "stdout",
     "output_type": "stream",
     "text": [
      "Enter any value = apple\n",
      "2\n",
      "['Ball', 'cat', 'Zebra', 'Xray']\n"
     ]
    }
   ],
   "source": [
    "# WAP to remove multiple value\n",
    "a = ['apple', 'Ball', 'cat', 'Zebra', 'Xray','apple']\n",
    "b = input(\"Enter any value = \")\n",
    "l = a.count(b)\n",
    "print(l)\n",
    "for i in range(l):\n",
    "    a.remove(b)\n",
    "print(a)"
   ]
  },
  {
   "cell_type": "code",
   "execution_count": 29,
   "id": "dfeaaa82",
   "metadata": {},
   "outputs": [
    {
     "name": "stdout",
     "output_type": "stream",
     "text": [
      "Enter any value = APPLE\n",
      "0\n",
      "['Ball', 'cat', 'Zebra', 'Xray']\n"
     ]
    }
   ],
   "source": [
    "# WAP to remove multiple value\n",
    "a = ['apple', 'Ball', 'cat', 'Zebra', 'Xray','apple']\n",
    "b = input(\"Enter any value = \")\n",
    "l = a.count(b)\n",
    "print(l)\n",
    "for i in a:\n",
    "    if i.lower() == b.lower():\n",
    "        a.remove(i)\n",
    "print(a)"
   ]
  },
  {
   "cell_type": "code",
   "execution_count": 27,
   "id": "3ecbb4b6",
   "metadata": {},
   "outputs": [
    {
     "name": "stdout",
     "output_type": "stream",
     "text": [
      "Enter any value = Cat\n",
      "['apple', 'Ball', 'Zebra', 'Xray', 'apple']\n"
     ]
    }
   ],
   "source": [
    "# WAP to remove multiple value\n",
    "a = ['apple', 'Ball', 'cat', 'Zebra', 'Xray','apple']\n",
    "b = input(\"Enter any value = \")\n",
    "c = 0\n",
    "for i in a:\n",
    "    if i.lower() == b.lower():\n",
    "        del a[c]\n",
    "    c = c+1\n",
    "    \n",
    "print(a)"
   ]
  },
  {
   "cell_type": "code",
   "execution_count": 10,
   "id": "3f2f08e3",
   "metadata": {},
   "outputs": [
    {
     "data": {
      "text/plain": [
       "['Ball', 'cat', 'Zebra', 'Xray']"
      ]
     },
     "execution_count": 10,
     "metadata": {},
     "output_type": "execute_result"
    }
   ],
   "source": [
    "a = ['apple', 'Ball', 'cat', 'Zebra', 'Xray','apple']\n",
    "a.remove('apple')\n",
    "a.remove('apple')\n",
    "a"
   ]
  },
  {
   "cell_type": "code",
   "execution_count": 32,
   "id": "723872ae",
   "metadata": {},
   "outputs": [
    {
     "name": "stdout",
     "output_type": "stream",
     "text": [
      "<class 'list'>\n",
      "[[1, 2, 3], [4, 5, 6], [6, 7, 8]]\n",
      "3\n"
     ]
    }
   ],
   "source": [
    "# List inside list\n",
    "a = [[1,2,3],\n",
    "     [4,5,6],\n",
    "     [6,7,8]]\n",
    "print(type(a))\n",
    "print(a)\n",
    "print(len(a))"
   ]
  },
  {
   "cell_type": "code",
   "execution_count": 35,
   "id": "76468771",
   "metadata": {},
   "outputs": [
    {
     "name": "stdout",
     "output_type": "stream",
     "text": [
      "[6, 7, 8]\n"
     ]
    }
   ],
   "source": [
    "print(a[2])"
   ]
  },
  {
   "cell_type": "code",
   "execution_count": 37,
   "id": "3cd68490",
   "metadata": {},
   "outputs": [
    {
     "name": "stdout",
     "output_type": "stream",
     "text": [
      "1\n"
     ]
    }
   ],
   "source": [
    "print(a[0][0])"
   ]
  },
  {
   "cell_type": "code",
   "execution_count": 39,
   "id": "5518e288",
   "metadata": {},
   "outputs": [
    {
     "data": {
      "text/plain": [
       "'B'"
      ]
     },
     "execution_count": 39,
     "metadata": {},
     "output_type": "execute_result"
    }
   ],
   "source": [
    "a = ['Ball', 'cat', 'Zebra', 'Xray']\n",
    "a[0][0]"
   ]
  },
  {
   "cell_type": "code",
   "execution_count": 45,
   "id": "e95986fd",
   "metadata": {},
   "outputs": [
    {
     "data": {
      "text/plain": [
       "[['Ram', 45, 'Kathmandu'], ['Shyam', 78, 'Bhaktapur'], ['Hari', 45, 'Jhapa']]"
      ]
     },
     "execution_count": 45,
     "metadata": {},
     "output_type": "execute_result"
    }
   ],
   "source": [
    "a = [['Ram',45,'Kathmandu'],\n",
    "    ['Shyam',78,'Bhaktapur'],\n",
    "    ['Hari',45,'Jhapa']]\n",
    "a"
   ]
  },
  {
   "cell_type": "code",
   "execution_count": 43,
   "id": "0737b6b7",
   "metadata": {},
   "outputs": [
    {
     "data": {
      "text/plain": [
       "45"
      ]
     },
     "execution_count": 43,
     "metadata": {},
     "output_type": "execute_result"
    }
   ],
   "source": [
    "a[0][1]"
   ]
  },
  {
   "cell_type": "code",
   "execution_count": 46,
   "id": "7d977900",
   "metadata": {},
   "outputs": [
    {
     "name": "stdout",
     "output_type": "stream",
     "text": [
      "Enter n = 2\n",
      "Enter name = Ram\n",
      "Enter age = 89\n",
      "Enter age = Kathmandu\n",
      "Enter name = Shyam\n",
      "Enter age = 89\n",
      "Enter age = Kathmandu\n"
     ]
    },
    {
     "data": {
      "text/plain": [
       "[['Ram', 89, 'Kathmandu'], ['Shyam', 89, 'Kathmandu']]"
      ]
     },
     "execution_count": 46,
     "metadata": {},
     "output_type": "execute_result"
    }
   ],
   "source": [
    "l = []\n",
    "n = int(input(\"Enter n = \"))\n",
    "for i in range(n):\n",
    "    name = input(\"Enter name = \")\n",
    "    age = int(input(\"Enter age = \"))\n",
    "    add = input(\"Enter age = \")\n",
    "    l.append([name,age,add])\n",
    "    \n",
    "l"
   ]
  },
  {
   "cell_type": "code",
   "execution_count": 47,
   "id": "ff68dc21",
   "metadata": {},
   "outputs": [
    {
     "data": {
      "text/plain": [
       "[['Ram', 89, 'Kathmandu'], ['Shyam', 89, 'Kathmandu'], ['Hari', 45, 'Bara']]"
      ]
     },
     "execution_count": 47,
     "metadata": {},
     "output_type": "execute_result"
    }
   ],
   "source": [
    "l.append(['Hari',45,'Bara'])\n",
    "l"
   ]
  },
  {
   "cell_type": "code",
   "execution_count": 51,
   "id": "978304e4",
   "metadata": {},
   "outputs": [
    {
     "name": "stdout",
     "output_type": "stream",
     "text": [
      "Enter name = Ram\n",
      "['Ram', 89, 'Kathmandu']\n"
     ]
    }
   ],
   "source": [
    "a = [['Ram', 29, 'Kathmandu'], ['Shyam', 39, 'Kathmandu'], ['Hari', 15, 'Bara']]\n",
    "name = input(\"Enter name = \")\n",
    "for i in a:\n",
    "    if name in i:\n",
    "        print(i)"
   ]
  },
  {
   "cell_type": "code",
   "execution_count": 1,
   "id": "50494f0b",
   "metadata": {},
   "outputs": [
    {
     "name": "stdout",
     "output_type": "stream",
     "text": [
      "['Ram', 29, 'Kathmandu']\n",
      "['Shyam', 39, 'Kathmandu']\n"
     ]
    }
   ],
   "source": [
    "a = [['Ram', 29, 'Kathmandu'], ['Shyam', 39, 'Kathmandu'], ['Hari', 15, 'Bara']]\n",
    "\n",
    "for i in a:\n",
    "    if i[1]>20:\n",
    "        print(i)"
   ]
  },
  {
   "cell_type": "code",
   "execution_count": 5,
   "id": "7ec15b1e",
   "metadata": {},
   "outputs": [
    {
     "data": {
      "text/plain": [
       "[['Rama', 29, 'Kathmandu'], ['Shyam', 39, 'Kathmandu'], ['Hari', 15, 'Bara']]"
      ]
     },
     "execution_count": 5,
     "metadata": {},
     "output_type": "execute_result"
    }
   ],
   "source": [
    "# Update\n",
    "a = [['Ram', 29, 'Kathmandu'], ['Shyam', 39, 'Kathmandu'], ['Hari', 15, 'Bara']]\n",
    "a[0][0] = 'Rama'\n",
    "a"
   ]
  },
  {
   "cell_type": "code",
   "execution_count": 6,
   "id": "8737c63d",
   "metadata": {},
   "outputs": [
    {
     "data": {
      "text/plain": [
       "[['Shyam', 39, 'Kathmandu'], ['Hari', 15, 'Bara']]"
      ]
     },
     "execution_count": 6,
     "metadata": {},
     "output_type": "execute_result"
    }
   ],
   "source": [
    "# delete\n",
    "a = [['Ram', 29, 'Kathmandu'], ['Shyam', 39, 'Kathmandu'], ['Hari', 15, 'Bara']]\n",
    "del a[0]\n",
    "a"
   ]
  },
  {
   "cell_type": "code",
   "execution_count": 7,
   "id": "fae296e6",
   "metadata": {},
   "outputs": [],
   "source": [
    "# WAP to convert give string to list inside list\n",
    "# a = \"Apple 200 2 400\\nBanana 100 3 300\\n\"\n",
    "# a = [[\"Apple\",200,2,400],['Banana',100,2,200]]\n",
    "# And convert price,total quantity into int"
   ]
  },
  {
   "cell_type": "code",
   "execution_count": null,
   "id": "2b9c185e",
   "metadata": {},
   "outputs": [],
   "source": []
  },
  {
   "cell_type": "code",
   "execution_count": null,
   "id": "225fd4cb",
   "metadata": {},
   "outputs": [],
   "source": [
    "# WAP to create a matrix taking row and col from user\n",
    "# r -> ?\n",
    "# c -> ?\n",
    "# x =>\n",
    "# r*c matrix\n",
    "# [['Rama', 29, 'Kathmandu'],\n",
    "#  ['Shyam', 39, 'Kathmandu'], \n",
    "#  ['Hari', 15, 'Bara']]\n",
    "# r->3\n",
    "# c->3"
   ]
  },
  {
   "cell_type": "code",
   "execution_count": 14,
   "id": "b2c7778b",
   "metadata": {},
   "outputs": [
    {
     "name": "stdout",
     "output_type": "stream",
     "text": [
      "['Apple 200 2 400', 'Banana 100 3 300']\n"
     ]
    },
    {
     "data": {
      "text/plain": [
       "[['Apple', 200, 2, 400], ['Banana', 100, 3, 300]]"
      ]
     },
     "execution_count": 14,
     "metadata": {},
     "output_type": "execute_result"
    }
   ],
   "source": [
    "# WAP to convert give string to list inside list\n",
    "# a = \"Apple 200 2 400\\nBanana 100 3 300\\n\"\n",
    "# a = [[\"Apple\",200,2,400],['Banana',100,2,200]]\n",
    "# And convert price,total quantity into int\n",
    "a = \"Apple 200 2 400\\nBanana 100 3 300\\n\"\n",
    "b = a.split('\\n')[0:-1]\n",
    "print(b)\n",
    "result = []\n",
    "for i in b:\n",
    "    x = i.split()\n",
    "    price = int(x[1])\n",
    "    qty = int(x[2])\n",
    "    total = int(x[3])\n",
    "    \n",
    "    x[1] = price\n",
    "    x[2] = qty\n",
    "    x[3] = total\n",
    "    \n",
    "#     x[1] = int(x[1])\n",
    "#     x[2] = int(x[2])\n",
    "#     x[3] = int(x[3])\n",
    "    result.append(x)\n",
    "    \n",
    "result"
   ]
  },
  {
   "cell_type": "code",
   "execution_count": 12,
   "id": "11fc63b2",
   "metadata": {},
   "outputs": [
    {
     "name": "stdout",
     "output_type": "stream",
     "text": [
      "['Apple 200 2 400', 'Banana 100 3 300']\n",
      "['Apple', '200', '2', '400']\n",
      "['Banana', '100', '3', '300']\n"
     ]
    }
   ],
   "source": [
    "a = \"Apple 200 2 400\\nBanana 100 3 300\\n\"\n",
    "b = a.split('\\n')[0:-1]\n",
    "print(b)\n",
    "result = []\n",
    "for i in b:\n",
    "    i.split()"
   ]
  },
  {
   "cell_type": "code",
   "execution_count": 2,
   "id": "119d547d",
   "metadata": {},
   "outputs": [
    {
     "name": "stdout",
     "output_type": "stream",
     "text": [
      "Enter r = 3\n",
      "Enter c = 3\n",
      "Enter x = for row=0 col=0  2\n",
      "Enter x = for row=0 col=1  3\n",
      "Enter x = for row=0 col=2  4\n",
      "Enter x = for row=1 col=0  5\n",
      "Enter x = for row=1 col=1  6\n",
      "Enter x = for row=1 col=2  7\n",
      "Enter x = for row=2 col=0  8\n",
      "Enter x = for row=2 col=1  1\n",
      "Enter x = for row=2 col=2  4\n",
      "[[2, 3, 4], [5, 6, 7], [8, 1, 4]]\n"
     ]
    }
   ],
   "source": [
    "# WAP to create a matrix taking row and col from user\n",
    "# r -> ?\n",
    "# c -> ?\n",
    "# x =>\n",
    "# r*c matrix\n",
    "# [['Rama', 29, 'Kathmandu'],\n",
    "#  ['Shyam', 39, 'Kathmandu'], \n",
    "#  ['Hari', 15, 'Bara']]\n",
    "# r->3\n",
    "# c->3\n",
    "\n",
    "matrix = []\n",
    "r = int(input(\"Enter r = \"))\n",
    "c = int(input(\"Enter c = \"))\n",
    "for i in range(r):\n",
    "    y = []\n",
    "    for j in range(c):\n",
    "        x = int(input(f\"Enter x = for row={i} col={j}  \"))\n",
    "        y.append(x)\n",
    "        \n",
    "    matrix.append(y)\n",
    "    \n",
    "print(matrix)"
   ]
  },
  {
   "cell_type": "code",
   "execution_count": 3,
   "id": "c9110755",
   "metadata": {},
   "outputs": [
    {
     "name": "stdout",
     "output_type": "stream",
     "text": [
      "Enter r = 1\n",
      "Enter marks for roll 0 subject->Physics  ==78\n",
      "Enter marks for roll 0 subject->Chemistry  ==90\n",
      "Enter marks for roll 0 subject->Math  ==67\n",
      "Enter marks for roll 0 subject->English  ==87\n",
      "Enter marks for roll 0 subject->Nepali  ==89\n",
      "[[78, 90, 67, 87, 89, 411]]\n"
     ]
    }
   ],
   "source": [
    "# WAP to create a matrix taking row and col from user\n",
    "# r -> ?\n",
    "# c -> ?\n",
    "# x =>\n",
    "# r*c matrix\n",
    "# [['Rama', 29, 'Kathmandu'],\n",
    "#  ['Shyam', 39, 'Kathmandu'], \n",
    "#  ['Hari', 15, 'Bara']]\n",
    "# r->3\n",
    "# c->3\n",
    "subject = ['Physics','Chemistry','Math','English','Nepali']\n",
    "c = len(subject)\n",
    "matrix = []\n",
    "r = int(input(\"Enter r = \"))\n",
    "for i in range(r):\n",
    "    y = []\n",
    "    total = 0\n",
    "    for j in range(c):\n",
    "        x = int(input(f\"Enter marks for roll {i} subject->{subject[j]}  ==\"))\n",
    "        total = total + x\n",
    "        y.append(x)\n",
    "    \n",
    "    y.append(total)\n",
    "    matrix.append(y)\n",
    "    \n",
    "print(matrix)"
   ]
  },
  {
   "cell_type": "code",
   "execution_count": null,
   "id": "5d043d9f",
   "metadata": {},
   "outputs": [],
   "source": []
  }
 ],
 "metadata": {
  "kernelspec": {
   "display_name": "Python 3 (ipykernel)",
   "language": "python",
   "name": "python3"
  },
  "language_info": {
   "codemirror_mode": {
    "name": "ipython",
    "version": 3
   },
   "file_extension": ".py",
   "mimetype": "text/x-python",
   "name": "python",
   "nbconvert_exporter": "python",
   "pygments_lexer": "ipython3",
   "version": "3.9.12"
  }
 },
 "nbformat": 4,
 "nbformat_minor": 5
}
