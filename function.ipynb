{
 "cells": [
  {
   "cell_type": "code",
   "execution_count": 1,
   "id": "cbccf8ab",
   "metadata": {},
   "outputs": [],
   "source": [
    "# Pre defined\n",
    "# print() int() float() str() list() tuple() dict()"
   ]
  },
  {
   "cell_type": "code",
   "execution_count": 2,
   "id": "7194c502",
   "metadata": {},
   "outputs": [],
   "source": [
    "# # user defined\n",
    "# def <function_name>():    #defining function\n",
    "#     <operations>\n",
    "    \n",
    "# <function_name>()"
   ]
  },
  {
   "cell_type": "code",
   "execution_count": 5,
   "id": "e82755fb",
   "metadata": {},
   "outputs": [
    {
     "name": "stdout",
     "output_type": "stream",
     "text": [
      "Hello World\n",
      "Hello World\n"
     ]
    }
   ],
   "source": [
    "def hello():                  #defining function\n",
    "    print(\"Hello World\")\n",
    "    \n",
    "hello()                       #calling function\n",
    "hello()"
   ]
  },
  {
   "cell_type": "code",
   "execution_count": 7,
   "id": "3f1c2680",
   "metadata": {},
   "outputs": [
    {
     "name": "stdout",
     "output_type": "stream",
     "text": [
      "Enter l = 100\n",
      "Enter b = 23\n",
      "Enter h = 2\n",
      "4600\n"
     ]
    }
   ],
   "source": [
    "def volume():\n",
    "    l = int(input(\"Enter l = \"))   #local varible\n",
    "    b = int(input(\"Enter b = \"))   #local variable\n",
    "    h = int(input(\"Enter h = \"))   #local variable\n",
    "    v = l*b*h\n",
    "    print(v)\n",
    "    \n",
    "volume()"
   ]
  },
  {
   "cell_type": "code",
   "execution_count": null,
   "id": "7f3e79df",
   "metadata": {},
   "outputs": [],
   "source": [
    "# function with no return type and no argument\n",
    "\n",
    "l = int(input(\"Enter l = \"))   #global varible\n",
    "b = int(input(\"Enter b = \"))   #global variable\n",
    "h = int(input(\"Enter h = \"))   #global variable\n",
    "\n",
    "def volume():\n",
    "    v = l*b*h\n",
    "    print(v)\n",
    "    \n",
    "volume()"
   ]
  },
  {
   "cell_type": "code",
   "execution_count": 8,
   "id": "1bd770e3",
   "metadata": {},
   "outputs": [
    {
     "name": "stdout",
     "output_type": "stream",
     "text": [
      "Enter l = 100\n",
      "Enter b = 23\n",
      "Enter h = 2\n",
      "4600\n"
     ]
    }
   ],
   "source": [
    "# function with no return type and no argument\n",
    "\n",
    "def volume():\n",
    "    global l,b,h\n",
    "    l = int(input(\"Enter l = \"))   #global varible\n",
    "    b = int(input(\"Enter b = \"))   #global variable\n",
    "    h = int(input(\"Enter h = \"))   #global variable\n",
    "    v = l*b*h\n",
    "    print(v)\n",
    "    \n",
    "volume()"
   ]
  },
  {
   "cell_type": "code",
   "execution_count": 9,
   "id": "0c9e5e9f",
   "metadata": {},
   "outputs": [],
   "source": [
    "# function with no return type and no argument\n",
    "# function with no return type and argument\n",
    "# function with return type and no argument\n",
    "# function with return type and argument"
   ]
  },
  {
   "cell_type": "code",
   "execution_count": null,
   "id": "5b14db6c",
   "metadata": {},
   "outputs": [],
   "source": [
    "# function with no return type and argument\n",
    "\n",
    "def volume(x,y,z):    #parameter\n",
    "    v = x*y*z\n",
    "    print(v)\n",
    "    \n",
    "l = int(input(\"Enter l = \"))   #global varible\n",
    "b = int(input(\"Enter b = \"))   #global variable\n",
    "h = int(input(\"Enter h = \"))   #global variable\n",
    "\n",
    "volume(l,b,h)  #arhument"
   ]
  },
  {
   "cell_type": "code",
   "execution_count": null,
   "id": "716ef7de",
   "metadata": {},
   "outputs": [],
   "source": [
    "# function with no return type and argument\n",
    "\n",
    "def volume(x,y,z):    #parameter\n",
    "    v = x*y*z\n",
    "    print(v)\n",
    "\n",
    "def area(i,j):\n",
    "    a = i*j\n",
    "    print(a)\n",
    "    \n",
    "l = int(input(\"Enter l = \"))   #global varible\n",
    "b = int(input(\"Enter b = \"))   #global variable\n",
    "h = int(input(\"Enter h = \"))   #global variable\n",
    "\n",
    "volume(l,b,h)  #arhument\n",
    "area(l,b)"
   ]
  },
  {
   "cell_type": "code",
   "execution_count": 11,
   "id": "1583e7f9",
   "metadata": {},
   "outputs": [
    {
     "name": "stdout",
     "output_type": "stream",
     "text": [
      "Hello World\n"
     ]
    }
   ],
   "source": [
    "# return type function no argument\n",
    "def hello():\n",
    "    return \"Hello World\"\n",
    "\n",
    "print(hello())"
   ]
  },
  {
   "cell_type": "code",
   "execution_count": 12,
   "id": "fa3057bf",
   "metadata": {},
   "outputs": [
    {
     "name": "stdout",
     "output_type": "stream",
     "text": [
      "Hello World\n"
     ]
    }
   ],
   "source": [
    "# return type function with no argument\n",
    "def hello():\n",
    "    return \"Hello World\"\n",
    "\n",
    "x = hello()\n",
    "print(x)"
   ]
  },
  {
   "cell_type": "code",
   "execution_count": 1,
   "id": "231897f8",
   "metadata": {},
   "outputs": [
    {
     "name": "stdout",
     "output_type": "stream",
     "text": [
      "Enter l = 100\n",
      "Enter b = 23\n",
      "Enter h = 4\n",
      "The area =  2300\n",
      "The volume =  9200\n"
     ]
    }
   ],
   "source": [
    "# function with return type and argument\n",
    "\n",
    "def area(x,y):    #parameter\n",
    "    a = x*y\n",
    "    return a\n",
    "    \n",
    "l = int(input(\"Enter l = \"))   #global varible\n",
    "b = int(input(\"Enter b = \"))   #global variable\n",
    "h = int(input(\"Enter h = \"))   #global variable\n",
    "\n",
    "ar = area(l,b)  #arhument\n",
    "v = ar*h\n",
    "print(\"The area = \",ar)\n",
    "print(\"The volume = \",v)"
   ]
  },
  {
   "cell_type": "code",
   "execution_count": 2,
   "id": "cbdb912e",
   "metadata": {},
   "outputs": [
    {
     "name": "stdout",
     "output_type": "stream",
     "text": [
      "Enter l = 100\n",
      "Enter b = 2\n",
      "Enter h = 3\n",
      "(200, 600)\n"
     ]
    }
   ],
   "source": [
    "# function with return type and argument\n",
    "\n",
    "def cal(x,y,z):    #parameter\n",
    "    a = x*y\n",
    "    v = a*z\n",
    "    return a,v\n",
    "    \n",
    "l = int(input(\"Enter l = \"))   #global varible\n",
    "b = int(input(\"Enter b = \"))   #global variable\n",
    "h = int(input(\"Enter h = \"))   #global variable\n",
    "\n",
    "c = cal(l,b,h)  #argument\n",
    "print(c)\n",
    "area,volume = c\n",
    "print(\"The area = \",area)\n",
    "print(\"The volume = \",volume)"
   ]
  },
  {
   "cell_type": "code",
   "execution_count": 3,
   "id": "950b10fb",
   "metadata": {},
   "outputs": [
    {
     "data": {
      "text/plain": [
       "(10, 11)"
      ]
     },
     "execution_count": 3,
     "metadata": {},
     "output_type": "execute_result"
    }
   ],
   "source": [
    "a = 10,11\n",
    "a"
   ]
  },
  {
   "cell_type": "code",
   "execution_count": 5,
   "id": "5785c1f4",
   "metadata": {},
   "outputs": [
    {
     "name": "stdout",
     "output_type": "stream",
     "text": [
      "10\n",
      "11\n"
     ]
    }
   ],
   "source": [
    "print(a[0])\n",
    "print(a[1])"
   ]
  },
  {
   "cell_type": "code",
   "execution_count": null,
   "id": "20a02c6d",
   "metadata": {},
   "outputs": [],
   "source": [
    "x,y = a"
   ]
  },
  {
   "cell_type": "code",
   "execution_count": 6,
   "id": "1ecbcc09",
   "metadata": {},
   "outputs": [
    {
     "name": "stdout",
     "output_type": "stream",
     "text": [
      "Enter l = 100\n",
      "Enter b = 23\n",
      "Enter h = 3\n",
      "(2300, 6900)\n",
      "The area =  2300\n",
      "The volume =  6900\n"
     ]
    }
   ],
   "source": [
    "# function with return type and argument\n",
    "\n",
    "def cal(value):    #parameter\n",
    "    l,b,h = value\n",
    "    a = l*b\n",
    "    v = a*h\n",
    "    return a,v\n",
    "    \n",
    "l = int(input(\"Enter l = \"))   #global varible\n",
    "b = int(input(\"Enter b = \"))   #global variable\n",
    "h = int(input(\"Enter h = \"))   #global variable\n",
    "\n",
    "values = (l,b,h)\n",
    "\n",
    "c = cal(values)  #argument\n",
    "print(c)\n",
    "area,volume = c\n",
    "print(\"The area = \",area)\n",
    "print(\"The volume = \",volume)"
   ]
  },
  {
   "cell_type": "code",
   "execution_count": 7,
   "id": "0536b7a3",
   "metadata": {},
   "outputs": [
    {
     "name": "stdout",
     "output_type": "stream",
     "text": [
      "Enter a = 100\n",
      "Enter b = 23\n",
      "Enter + or - or * or / /\n",
      "4.3478260869565215\n"
     ]
    }
   ],
   "source": [
    "def add(a,b):\n",
    "    return a+b\n",
    "\n",
    "def sub(a,b):\n",
    "    return a-b\n",
    "\n",
    "def mul(a,b):\n",
    "    return a*b\n",
    "\n",
    "def div(a,b):\n",
    "    return a/b\n",
    "\n",
    "a = int(input(\"Enter a = \"))\n",
    "b = int(input(\"Enter b = \"))\n",
    "o = input(\"Enter + or - or * or / \")\n",
    "if o == '+':\n",
    "    print(add(a,b))\n",
    "elif o == '-':\n",
    "    print(sub(a,b))\n",
    "elif o == '*':\n",
    "    print(mul(a,b))\n",
    "elif o == '/':\n",
    "    print(div(a,b))\n",
    "else:\n",
    "    print(\"Invalid operator \")"
   ]
  },
  {
   "cell_type": "code",
   "execution_count": 9,
   "id": "2347ecd1",
   "metadata": {},
   "outputs": [
    {
     "name": "stdout",
     "output_type": "stream",
     "text": [
      "('C', <class 'str'>)\n",
      "('C++', <class 'str'>)\n",
      "('C#', <class 'str'>)\n",
      "('Java', <class 'str'>)\n",
      "('Python', <class 'str'>)\n"
     ]
    }
   ],
   "source": [
    "def language(lan = \"Python\"):\n",
    "    return lan, type(lan)\n",
    "    \n",
    "print(language(\"C\"))\n",
    "print(language(\"C++\"))\n",
    "print(language(\"C#\"))\n",
    "print(language(\"Java\"))\n",
    "print(language())"
   ]
  },
  {
   "cell_type": "code",
   "execution_count": 1,
   "id": "159df3af",
   "metadata": {},
   "outputs": [
    {
     "name": "stdout",
     "output_type": "stream",
     "text": [
      "Enter n = 2\n",
      "Enter name = sfsdfd\n",
      "Enter price = 324\n",
      "Enter quantity = 234\n"
     ]
    },
    {
     "ename": "UnboundLocalError",
     "evalue": "local variable 'bills' referenced before assignment",
     "output_type": "error",
     "traceback": [
      "\u001b[1;31m---------------------------------------------------------------------------\u001b[0m",
      "\u001b[1;31mUnboundLocalError\u001b[0m                         Traceback (most recent call last)",
      "Input \u001b[1;32mIn [1]\u001b[0m, in \u001b[0;36m<cell line: 16>\u001b[1;34m()\u001b[0m\n\u001b[0;32m     13\u001b[0m         grand_total \u001b[38;5;241m=\u001b[39m grand_total \u001b[38;5;241m+\u001b[39m total\n\u001b[0;32m     14\u001b[0m     \u001b[38;5;28;01mreturn\u001b[39;00m bills,grand_total\n\u001b[1;32m---> 16\u001b[0m all_bill,all_total \u001b[38;5;241m=\u001b[39m \u001b[43mbill\u001b[49m\u001b[43m(\u001b[49m\u001b[43m)\u001b[49m\n\u001b[0;32m     17\u001b[0m \u001b[38;5;28mprint\u001b[39m(all_bill)\n\u001b[0;32m     18\u001b[0m \u001b[38;5;28mprint\u001b[39m(all_total)\n",
      "Input \u001b[1;32mIn [1]\u001b[0m, in \u001b[0;36mbill\u001b[1;34m()\u001b[0m\n\u001b[0;32m     10\u001b[0m     qty \u001b[38;5;241m=\u001b[39m \u001b[38;5;28mint\u001b[39m(\u001b[38;5;28minput\u001b[39m(\u001b[38;5;124m\"\u001b[39m\u001b[38;5;124mEnter quantity = \u001b[39m\u001b[38;5;124m\"\u001b[39m))\n\u001b[0;32m     11\u001b[0m     total \u001b[38;5;241m=\u001b[39m price\u001b[38;5;241m*\u001b[39mqty\n\u001b[1;32m---> 12\u001b[0m     bills \u001b[38;5;241m=\u001b[39m \u001b[43mbills\u001b[49m \u001b[38;5;241m+\u001b[39m\u001b[38;5;124mf\u001b[39m\u001b[38;5;124m\"\u001b[39m\u001b[38;5;132;01m{\u001b[39;00mname\u001b[38;5;132;01m}\u001b[39;00m\u001b[38;5;124m \u001b[39m\u001b[38;5;132;01m{\u001b[39;00mprice\u001b[38;5;132;01m}\u001b[39;00m\u001b[38;5;124m \u001b[39m\u001b[38;5;132;01m{\u001b[39;00mqty\u001b[38;5;132;01m}\u001b[39;00m\u001b[38;5;124m \u001b[39m\u001b[38;5;132;01m{\u001b[39;00mtotal\u001b[38;5;132;01m}\u001b[39;00m\u001b[38;5;130;01m\\n\u001b[39;00m\u001b[38;5;124m\"\u001b[39m\n\u001b[0;32m     13\u001b[0m     grand_total \u001b[38;5;241m=\u001b[39m grand_total \u001b[38;5;241m+\u001b[39m total\n\u001b[0;32m     14\u001b[0m \u001b[38;5;28;01mreturn\u001b[39;00m bills,grand_total\n",
      "\u001b[1;31mUnboundLocalError\u001b[0m: local variable 'bills' referenced before assignment"
     ]
    }
   ],
   "source": [
    "# Wap to calculate billing system using function\n",
    "grand_total = 0\n",
    "bills = \"\"\n",
    "def bill():\n",
    "    global bills,grand_total\n",
    "    n = int(input(\"Enter n = \"))\n",
    "    for i in range(n):\n",
    "        name = input(\"Enter name = \")\n",
    "        price = int(input(\"Enter price = \"))\n",
    "        qty = int(input(\"Enter quantity = \"))\n",
    "        total = price*qty\n",
    "        bills = bills +f\"{name} {price} {qty} {total}\\n\"\n",
    "        grand_total = grand_total + total\n",
    "    return bills,grand_total\n",
    "    \n",
    "all_bill,all_total = bill()\n",
    "print(all_bill)\n",
    "print(all_total)"
   ]
  },
  {
   "cell_type": "code",
   "execution_count": 5,
   "id": "b6b62c86",
   "metadata": {},
   "outputs": [
    {
     "data": {
      "text/plain": [
       "4"
      ]
     },
     "execution_count": 5,
     "metadata": {},
     "output_type": "execute_result"
    }
   ],
   "source": [
    "# lambda function\n",
    "x = lambda a:a**2\n",
    "x(2)"
   ]
  },
  {
   "cell_type": "code",
   "execution_count": 6,
   "id": "dec490ef",
   "metadata": {},
   "outputs": [
    {
     "data": {
      "text/plain": [
       "'hello world'"
      ]
     },
     "execution_count": 6,
     "metadata": {},
     "output_type": "execute_result"
    }
   ],
   "source": [
    "x = lambda a:a.lower()\n",
    "x(\"Hello World\")"
   ]
  },
  {
   "cell_type": "code",
   "execution_count": 7,
   "id": "ac5c7afb",
   "metadata": {},
   "outputs": [
    {
     "data": {
      "text/plain": [
       "50"
      ]
     },
     "execution_count": 7,
     "metadata": {},
     "output_type": "execute_result"
    }
   ],
   "source": [
    "area = lambda l,b:l*b\n",
    "area(10,5)"
   ]
  },
  {
   "cell_type": "code",
   "execution_count": 8,
   "id": "72a14348",
   "metadata": {},
   "outputs": [],
   "source": [
    "# Filtering "
   ]
  },
  {
   "cell_type": "code",
   "execution_count": 12,
   "id": "525ff629",
   "metadata": {},
   "outputs": [
    {
     "data": {
      "text/plain": [
       "(4, 4, 8, 6, 8)"
      ]
     },
     "execution_count": 12,
     "metadata": {},
     "output_type": "execute_result"
    }
   ],
   "source": [
    "l = [4,4,7,8,3,5,6,8,9]\n",
    "even = tuple(filter(lambda a:a%2==0,l))\n",
    "even"
   ]
  },
  {
   "cell_type": "code",
   "execution_count": 23,
   "id": "a4d117d8",
   "metadata": {},
   "outputs": [
    {
     "data": {
      "text/plain": [
       "(7, 3, 5, 9)"
      ]
     },
     "execution_count": 23,
     "metadata": {},
     "output_type": "execute_result"
    }
   ],
   "source": [
    "l = [4,4,7,8,3,5,6,8,9]\n",
    "even = tuple(filter(lambda a:a%2!=0,l))\n",
    "even"
   ]
  },
  {
   "cell_type": "code",
   "execution_count": 15,
   "id": "623abc2c",
   "metadata": {},
   "outputs": [
    {
     "data": {
      "text/plain": [
       "('Apple', 'Ball', 'Cat', 'Dog', 'Fish')"
      ]
     },
     "execution_count": 15,
     "metadata": {},
     "output_type": "execute_result"
    }
   ],
   "source": [
    "l = [\"Apple\",\"Ball\",\"Cat\",\"Dog\",\"Fish\",\"zebra\"]\n",
    "small = tuple(filter(lambda a:a[0].isupper(),l))\n",
    "small"
   ]
  },
  {
   "cell_type": "code",
   "execution_count": 19,
   "id": "03001f26",
   "metadata": {},
   "outputs": [
    {
     "data": {
      "text/plain": [
       "True"
      ]
     },
     "execution_count": 19,
     "metadata": {},
     "output_type": "execute_result"
    }
   ],
   "source": [
    "\"Apple\"[0].isupper()"
   ]
  },
  {
   "cell_type": "code",
   "execution_count": 22,
   "id": "857116a3",
   "metadata": {},
   "outputs": [
    {
     "data": {
      "text/plain": [
       "True"
      ]
     },
     "execution_count": 22,
     "metadata": {},
     "output_type": "execute_result"
    }
   ],
   "source": [
    "\"Ball\"[0].isupper()"
   ]
  },
  {
   "cell_type": "code",
   "execution_count": 27,
   "id": "1f88b645",
   "metadata": {},
   "outputs": [
    {
     "data": {
      "text/plain": [
       "[2, 4, 6, 8, 10, 12, 14, 16, 18]"
      ]
     },
     "execution_count": 27,
     "metadata": {},
     "output_type": "execute_result"
    }
   ],
   "source": [
    "# Mapping\n",
    "#it follows a mathematical function which has a certain list or tuple as an argument\n",
    "#here x*2 is mathematical function\n",
    "a = [1,2,3,4,5,6,7,8,9]\n",
    "b = list(map(lambda x:x*2,a))\n",
    "b"
   ]
  },
  {
   "cell_type": "code",
   "execution_count": 30,
   "id": "b91df820",
   "metadata": {},
   "outputs": [
    {
     "data": {
      "text/plain": [
       "['apple', 'ball', 'cat', 'dog', 'fish', 'zebra']"
      ]
     },
     "execution_count": 30,
     "metadata": {},
     "output_type": "execute_result"
    }
   ],
   "source": [
    "l = [\"Apple\",\"Ball\",\"Cat\",\"Dog\",\"Fish\",\"Zebra\"]\n",
    "b = list(map(lambda x:x.lower(),l))\n",
    "b"
   ]
  },
  {
   "cell_type": "code",
   "execution_count": 32,
   "id": "14244f43",
   "metadata": {},
   "outputs": [
    {
     "data": {
      "text/plain": [
       "['Apple', 'Ball', 'Cat', 'Dog', 'Fish', 'Zebra']"
      ]
     },
     "execution_count": 32,
     "metadata": {},
     "output_type": "execute_result"
    }
   ],
   "source": [
    "l = (\"Apple \",\"Ball \",\"Cat \",\"Dog \",\"Fish \",\"Zebra \")\n",
    "b = list(map(lambda x:x.replace(' ',''),l))\n",
    "b"
   ]
  },
  {
   "cell_type": "code",
   "execution_count": 34,
   "id": "474d30ec",
   "metadata": {},
   "outputs": [
    {
     "data": {
      "text/plain": [
       "('Apple', 'Ball', 'Cat', 'Dog', 'Fish')"
      ]
     },
     "execution_count": 34,
     "metadata": {},
     "output_type": "execute_result"
    }
   ],
   "source": [
    "l = [\"Apple\",\"Ball\",\"Cat\",\"Dog\",\"Fish\",\"zebra\"]\n",
    "small = tuple(filter(lambda a:(a[0].isupper() and a[1].islower()),l))\n",
    "small"
   ]
  },
  {
   "cell_type": "code",
   "execution_count": null,
   "id": "c893817d",
   "metadata": {},
   "outputs": [],
   "source": [
    "# Rercursive function\n",
    "def hello():\n",
    "    print(\"Hello World\")\n",
    "    hello()\n",
    "    \n",
    "    \n",
    "hello()"
   ]
  },
  {
   "cell_type": "code",
   "execution_count": 1,
   "id": "39c5700e",
   "metadata": {},
   "outputs": [
    {
     "name": "stdout",
     "output_type": "stream",
     "text": [
      "Hello World\n",
      "Enter y for more print = y\n",
      "Hello World\n",
      "Enter y for more print = y\n",
      "Hello World\n",
      "Enter y for more print = adas\n"
     ]
    }
   ],
   "source": [
    "def hello():\n",
    "    print(\"Hello World\")\n",
    "    x = input(\"Enter y for more print = \")\n",
    "    if x =='y':\n",
    "        hello()\n",
    "    \n",
    "    \n",
    "hello()"
   ]
  },
  {
   "cell_type": "code",
   "execution_count": 2,
   "id": "b6419e4f",
   "metadata": {},
   "outputs": [
    {
     "name": "stdout",
     "output_type": "stream",
     "text": [
      "Welcome to our website\n",
      "Enter username = asdasd\n",
      "Enter password = asds\n",
      "Login failed please enter correct username and password.\n",
      "Welcome to our website\n",
      "Enter username = admin\n",
      "Enter password = admin\n",
      "You are logedin in 2 attempt\n"
     ]
    }
   ],
   "source": [
    "username1 = \"admin\"\n",
    "password1 = \"admin\"\n",
    "c = 1\n",
    "print(\"Welcome to our website\")\n",
    "\n",
    "def login():\n",
    "    global c\n",
    "    username = input(\"Enter username = \")\n",
    "    password = input(\"Enter password = \")\n",
    "    if (username == username1) and (password == password1):\n",
    "        print(f\"You are logedin in {c} attempt\")\n",
    "    else:\n",
    "        print(\"Login failed please enter correct username and password.\")\n",
    "        c = c+1\n",
    "        login()\n",
    "        \n",
    "        \n",
    "login()"
   ]
  },
  {
   "cell_type": "code",
   "execution_count": null,
   "id": "daa077bd",
   "metadata": {},
   "outputs": [],
   "source": [
    "# math function"
   ]
  }
 ],
 "metadata": {
  "kernelspec": {
   "display_name": "Python 3 (ipykernel)",
   "language": "python",
   "name": "python3"
  },
  "language_info": {
   "codemirror_mode": {
    "name": "ipython",
    "version": 3
   },
   "file_extension": ".py",
   "mimetype": "text/x-python",
   "name": "python",
   "nbconvert_exporter": "python",
   "pygments_lexer": "ipython3",
   "version": "3.9.12"
  }
 },
 "nbformat": 4,
 "nbformat_minor": 5
}
