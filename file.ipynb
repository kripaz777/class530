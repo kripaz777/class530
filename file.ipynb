{
 "cells": [
  {
   "cell_type": "code",
   "execution_count": 1,
   "id": "ac55a569",
   "metadata": {},
   "outputs": [],
   "source": [
    "# # file = open('<file_name>','<mode>')\n",
    "# # file.close()\n",
    "\n",
    "# with open('<file_name>','<mode>') as file:\n",
    "#     <operations>"
   ]
  },
  {
   "cell_type": "code",
   "execution_count": 2,
   "id": "d84840e0",
   "metadata": {},
   "outputs": [],
   "source": [
    "# mode\n",
    "# read -> 'r'\n",
    "# write -> 'w'\n",
    "# create -> 'x'\n",
    "# append -> 'a'"
   ]
  },
  {
   "cell_type": "code",
   "execution_count": 5,
   "id": "071a632a",
   "metadata": {},
   "outputs": [
    {
     "name": "stdout",
     "output_type": "stream",
     "text": [
      "The file is already there!\n"
     ]
    }
   ],
   "source": [
    "try:\n",
    "    file = open('file.txt','x')\n",
    "    file.close()\n",
    "except:\n",
    "    print(\"The file is already there!\")"
   ]
  },
  {
   "cell_type": "code",
   "execution_count": 6,
   "id": "1fcd2480",
   "metadata": {},
   "outputs": [
    {
     "name": "stdout",
     "output_type": "stream",
     "text": [
      "1.Hello World\n",
      "2.Hello World\n",
      "3.Hello World\n",
      "4.Hello World\n",
      "5.Hello World\n",
      "6.Hello World\n",
      "7.Hello World\n",
      "8.Hello World\n",
      "9.Hello World\n"
     ]
    }
   ],
   "source": [
    "file = open('file.txt','r')\n",
    "x = file.read()\n",
    "print(x)\n",
    "file.close()"
   ]
  },
  {
   "cell_type": "code",
   "execution_count": 7,
   "id": "16d51c19",
   "metadata": {},
   "outputs": [
    {
     "data": {
      "text/plain": [
       "str"
      ]
     },
     "execution_count": 7,
     "metadata": {},
     "output_type": "execute_result"
    }
   ],
   "source": [
    "type(x)"
   ]
  },
  {
   "cell_type": "code",
   "execution_count": 10,
   "id": "f5a818a0",
   "metadata": {},
   "outputs": [
    {
     "data": {
      "text/plain": [
       "['1.Hello World',\n",
       " '2.Hello World',\n",
       " '3.Hello World',\n",
       " '4.Hello World',\n",
       " '5.Hello World',\n",
       " '6.Hello World',\n",
       " '7.Hello World',\n",
       " '8.Hello World',\n",
       " '9.Hello World']"
      ]
     },
     "execution_count": 10,
     "metadata": {},
     "output_type": "execute_result"
    }
   ],
   "source": [
    "data = x.split('\\n')\n",
    "data"
   ]
  },
  {
   "cell_type": "code",
   "execution_count": 13,
   "id": "dff942ea",
   "metadata": {},
   "outputs": [
    {
     "name": "stdout",
     "output_type": "stream",
     "text": [
      "Enter line no = 1\n"
     ]
    },
    {
     "data": {
      "text/plain": [
       "'1.Hello World'"
      ]
     },
     "execution_count": 13,
     "metadata": {},
     "output_type": "execute_result"
    }
   ],
   "source": [
    "n = int(input(\"Enter line no = \"))\n",
    "data[n-1]"
   ]
  },
  {
   "cell_type": "code",
   "execution_count": 14,
   "id": "42f9d902",
   "metadata": {},
   "outputs": [],
   "source": [
    "#mode - w\n",
    "\n",
    "file = open('hello.txt','w')\n",
    "file.write(\"Hello World\")\n",
    "file.close()"
   ]
  },
  {
   "cell_type": "code",
   "execution_count": 16,
   "id": "10610923",
   "metadata": {},
   "outputs": [
    {
     "name": "stdout",
     "output_type": "stream",
     "text": [
      "Enter n = 2\n",
      "Enter x = Apple\n",
      "Enter price = 200\n",
      "Enter quantity = 3\n",
      "Enter x = Banana\n",
      "Enter price = 120\n",
      "Enter quantity = 4\n",
      "Apple 200 3 600\n",
      "Banana 120 4 480\n",
      "\n"
     ]
    }
   ],
   "source": [
    "bill = str()\n",
    "#s = 0\n",
    "n = int(input(\"Enter n = \"))\n",
    "for i in range(n):\n",
    "    product = input(\"Enter x = \")\n",
    "    price = int(input(\"Enter price = \"))\n",
    "    quantity = int(input(\"Enter quantity = \"))\n",
    "    total = price*quantity\n",
    "    bill = bill + f\"{product} {price} ana{quantity} {total}\\n\"\n",
    "print(bill)\n",
    "\n",
    "file = open('bill.txt','w')\n",
    "file.write(bill)\n",
    "file.close()"
   ]
  },
  {
   "cell_type": "code",
   "execution_count": 17,
   "id": "d5eeb7bc",
   "metadata": {},
   "outputs": [
    {
     "name": "stdout",
     "output_type": "stream",
     "text": [
      "Apple 200 3 600\n",
      "Banana 120 4 480\n",
      "\n"
     ]
    }
   ],
   "source": [
    "file = open('bill.txt','r')\n",
    "x = file.read()\n",
    "print(x)\n",
    "file.close()"
   ]
  },
  {
   "cell_type": "code",
   "execution_count": 24,
   "id": "5cc5a5ff",
   "metadata": {},
   "outputs": [
    {
     "name": "stdout",
     "output_type": "stream",
     "text": [
      "['Apple 200 3 600', 'Banana 120 4 480']\n"
     ]
    },
    {
     "data": {
      "text/plain": [
       "[['Apple', 200, 3, 600], ['Banana', 120, 4, 480]]"
      ]
     },
     "execution_count": 24,
     "metadata": {},
     "output_type": "execute_result"
    }
   ],
   "source": [
    "b = x.split('\\n')[0:-1]\n",
    "print(b)\n",
    "result = []\n",
    "for i in b:\n",
    "    y = i.split()\n",
    "    \n",
    "    y[1] = int(y[1])\n",
    "    y[2] = int(y[2])\n",
    "    y[3] = int(y[3])\n",
    "    result.append(y)\n",
    "    \n",
    "result"
   ]
  },
  {
   "cell_type": "code",
   "execution_count": 27,
   "id": "21e33df5",
   "metadata": {},
   "outputs": [
    {
     "name": "stdout",
     "output_type": "stream",
     "text": [
      "Enter n = 2\n",
      "Enter x = Apple\n",
      "Enter price = 300\n",
      "Enter quantity = 2\n",
      "Enter x = Banana\n",
      "Enter price = 120\n",
      "Enter quantity = 4\n",
      "Apple,300,2,600\n",
      "Banana,120,4,480\n",
      "\n"
     ]
    }
   ],
   "source": [
    "bill = str()\n",
    "#s = 0\n",
    "n = int(input(\"Enter n = \"))\n",
    "for i in range(n):\n",
    "    product = input(\"Enter x = \")\n",
    "    price = int(input(\"Enter price = \"))\n",
    "    quantity = int(input(\"Enter quantity = \"))\n",
    "    total = price*quantity\n",
    "    bill = bill + f\"{product},{price},{quantity},{total}\\n\"\n",
    "print(bill)\n",
    "\n",
    "file = open('bill.csv','w')\n",
    "file.write('Product,Price,Quantity,Total\\n')\n",
    "file.write(bill)\n",
    "file.close()"
   ]
  },
  {
   "cell_type": "code",
   "execution_count": 26,
   "id": "a381d9c8",
   "metadata": {},
   "outputs": [
    {
     "data": {
      "text/plain": [
       "'C:\\\\Users\\\\Aayush\\\\Python530pm'"
      ]
     },
     "execution_count": 26,
     "metadata": {},
     "output_type": "execute_result"
    }
   ],
   "source": [
    "pwd"
   ]
  },
  {
   "cell_type": "code",
   "execution_count": 28,
   "id": "42ad81b6",
   "metadata": {},
   "outputs": [
    {
     "data": {
      "text/html": [
       "<div>\n",
       "<style scoped>\n",
       "    .dataframe tbody tr th:only-of-type {\n",
       "        vertical-align: middle;\n",
       "    }\n",
       "\n",
       "    .dataframe tbody tr th {\n",
       "        vertical-align: top;\n",
       "    }\n",
       "\n",
       "    .dataframe thead th {\n",
       "        text-align: right;\n",
       "    }\n",
       "</style>\n",
       "<table border=\"1\" class=\"dataframe\">\n",
       "  <thead>\n",
       "    <tr style=\"text-align: right;\">\n",
       "      <th></th>\n",
       "      <th>Product</th>\n",
       "      <th>Price</th>\n",
       "      <th>Quantity</th>\n",
       "      <th>Total</th>\n",
       "    </tr>\n",
       "  </thead>\n",
       "  <tbody>\n",
       "    <tr>\n",
       "      <th>0</th>\n",
       "      <td>Apple</td>\n",
       "      <td>300</td>\n",
       "      <td>2</td>\n",
       "      <td>600</td>\n",
       "    </tr>\n",
       "    <tr>\n",
       "      <th>1</th>\n",
       "      <td>Banana</td>\n",
       "      <td>120</td>\n",
       "      <td>4</td>\n",
       "      <td>480</td>\n",
       "    </tr>\n",
       "  </tbody>\n",
       "</table>\n",
       "</div>"
      ],
      "text/plain": [
       "  Product  Price  Quantity  Total\n",
       "0   Apple    300         2    600\n",
       "1  Banana    120         4    480"
      ]
     },
     "execution_count": 28,
     "metadata": {},
     "output_type": "execute_result"
    }
   ],
   "source": [
    "import pandas as pd\n",
    "df = pd.read_csv('bill.csv')\n",
    "df"
   ]
  },
  {
   "cell_type": "code",
   "execution_count": 37,
   "id": "42006451",
   "metadata": {},
   "outputs": [
    {
     "data": {
      "text/plain": [
       "29"
      ]
     },
     "execution_count": 37,
     "metadata": {},
     "output_type": "execute_result"
    }
   ],
   "source": [
    "file = open('new_bill.csv','a')\n",
    "file.write('Product,Price,Quantity,Total\\n')"
   ]
  },
  {
   "cell_type": "code",
   "execution_count": 40,
   "id": "93efca10",
   "metadata": {},
   "outputs": [
    {
     "name": "stdout",
     "output_type": "stream",
     "text": [
      "Enter n = 1\n",
      "Enter x = Coke\n",
      "Enter price = 200\n",
      "Enter quantity = 2\n"
     ]
    },
    {
     "data": {
      "text/plain": [
       "15"
      ]
     },
     "execution_count": 40,
     "metadata": {},
     "output_type": "execute_result"
    }
   ],
   "source": [
    "bill = str()\n",
    "#s = 0\n",
    "n = int(input(\"Enter n = \"))\n",
    "for i in range(n):\n",
    "    product = input(\"Enter x = \")\n",
    "    price = int(input(\"Enter price = \"))\n",
    "    quantity = int(input(\"Enter quantity = \"))\n",
    "    total = price*quantity\n",
    "    bill = bill + f\"{product},{price},{quantity},{total}\\n\"\n",
    "\n",
    "file.write(bill)"
   ]
  },
  {
   "cell_type": "code",
   "execution_count": 41,
   "id": "b12e85cf",
   "metadata": {},
   "outputs": [],
   "source": [
    "file.close()"
   ]
  },
  {
   "cell_type": "code",
   "execution_count": null,
   "id": "90fae1ba",
   "metadata": {},
   "outputs": [],
   "source": []
  }
 ],
 "metadata": {
  "kernelspec": {
   "display_name": "Python 3 (ipykernel)",
   "language": "python",
   "name": "python3"
  },
  "language_info": {
   "codemirror_mode": {
    "name": "ipython",
    "version": 3
   },
   "file_extension": ".py",
   "mimetype": "text/x-python",
   "name": "python",
   "nbconvert_exporter": "python",
   "pygments_lexer": "ipython3",
   "version": "3.9.12"
  }
 },
 "nbformat": 4,
 "nbformat_minor": 5
}
