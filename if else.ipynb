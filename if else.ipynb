{
 "cells": [
  {
   "cell_type": "code",
   "execution_count": null,
   "id": "f7a6eaf5",
   "metadata": {},
   "outputs": [],
   "source": [
    "# if <condition>:\n",
    "    \n",
    "#     <oprations>\n",
    "# elif <condition>:\n",
    "#     <operations>\n",
    "# ....\n",
    "# ....\n",
    "# else:\n",
    "#     <operations>"
   ]
  },
  {
   "cell_type": "code",
   "execution_count": null,
   "id": "e0b783a5",
   "metadata": {},
   "outputs": [],
   "source": [
    "# > < >= <= == !="
   ]
  },
  {
   "cell_type": "code",
   "execution_count": 2,
   "id": "054366a3",
   "metadata": {},
   "outputs": [
    {
     "name": "stdout",
     "output_type": "stream",
     "text": [
      "Enter n = -10\n",
      "n is -ve\n"
     ]
    }
   ],
   "source": [
    "n = int(input(\"Enter n = \"))\n",
    "if n >= 0:\n",
    "    print(\"n is +ve\")\n",
    "    \n",
    "else:\n",
    "    print(\"n is -ve\")"
   ]
  },
  {
   "cell_type": "code",
   "execution_count": 8,
   "id": "0c959431",
   "metadata": {},
   "outputs": [
    {
     "name": "stdout",
     "output_type": "stream",
     "text": [
      "Enter n = 11\n",
      "11 is odd\n"
     ]
    }
   ],
   "source": [
    "n = int(input(\"Enter n = \"))\n",
    "if n%2==0:\n",
    "    print(n,\"is even\")\n",
    "else:\n",
    "    print(n,\"is odd\")"
   ]
  },
  {
   "cell_type": "code",
   "execution_count": 11,
   "id": "d76dcf01",
   "metadata": {},
   "outputs": [
    {
     "name": "stdout",
     "output_type": "stream",
     "text": [
      "Enter a = 10\n",
      "Enter b = 3\n",
      "10 is greater\n"
     ]
    }
   ],
   "source": [
    "a = int(input(\"Enter a = \"))\n",
    "b = int(input(\"Enter b = \"))\n",
    "if a>b:\n",
    "    print(a,\"is greater\")\n",
    "elif b>a:\n",
    "    print(b,\"is greater\")\n",
    "else:\n",
    "    print(a,b,\"both are equal\")"
   ]
  },
  {
   "cell_type": "code",
   "execution_count": 1,
   "id": "7fd260ec",
   "metadata": {},
   "outputs": [
    {
     "name": "stdout",
     "output_type": "stream",
     "text": [
      "Enter a = 10\n",
      "Enter b = 3\n",
      "Enter + or - or * or / /\n",
      "3.3333333333333335\n"
     ]
    }
   ],
   "source": [
    "a = int(input(\"Enter a = \"))\n",
    "b = int(input(\"Enter b = \"))\n",
    "o = input(\"Enter + or - or * or / \")\n",
    "if o == '+':\n",
    "    print(a+b)\n",
    "elif o == '-':\n",
    "    print(a-b)\n",
    "elif o == '*':\n",
    "    print(a*b)\n",
    "elif o == '/':\n",
    "    print(a/b)\n",
    "else:\n",
    "    print(\"Invalid operator \")"
   ]
  },
  {
   "cell_type": "code",
   "execution_count": 3,
   "id": "3f3bedd4",
   "metadata": {},
   "outputs": [
    {
     "name": "stdout",
     "output_type": "stream",
     "text": [
      "Enter physics  marks = 89\n",
      "Enter chemistry marks = 78\n",
      "Enter math marks = 98\n",
      "Enter english marks = 78\n",
      "Enter nepali marks =67\n",
      "A Grade\n"
     ]
    }
   ],
   "source": [
    "physics = int(input(\"Enter physics  marks = \"))\n",
    "chemistry = int(input(\"Enter chemistry marks = \"))\n",
    "math = int(input(\"Enter math marks = \"))\n",
    "english = int(input(\"Enter english marks = \"))\n",
    "nepali = int(input(\"Enter nepali marks =\"))\n",
    "total = physics+chemistry+math+english+nepali\n",
    "per = total/5\n",
    "if per >= 80:\n",
    "    grade = 'A'\n",
    "elif per >= 60:\n",
    "    grade = 'B'\n",
    "elif per >= 50:\n",
    "    grade = 'C'\n",
    "else:\n",
    "    grade = 'F'\n",
    "    \n",
    "print(grade,\"Grade\")"
   ]
  },
  {
   "cell_type": "code",
   "execution_count": 4,
   "id": "ebe7f9b0",
   "metadata": {},
   "outputs": [],
   "source": [
    "# and &\n",
    "# or |"
   ]
  },
  {
   "cell_type": "code",
   "execution_count": 6,
   "id": "e892a53f",
   "metadata": {},
   "outputs": [
    {
     "name": "stdout",
     "output_type": "stream",
     "text": [
      "False\n",
      "True\n"
     ]
    }
   ],
   "source": [
    "#and &\n",
    "print(True and False)\n",
    "print(True and True)"
   ]
  },
  {
   "cell_type": "code",
   "execution_count": 7,
   "id": "4f5ee568",
   "metadata": {},
   "outputs": [
    {
     "name": "stdout",
     "output_type": "stream",
     "text": [
      "True\n",
      "True\n"
     ]
    }
   ],
   "source": [
    "#or |\n",
    "print(True or False)\n",
    "print(True or True)"
   ]
  },
  {
   "cell_type": "code",
   "execution_count": 9,
   "id": "800e9ed9",
   "metadata": {},
   "outputs": [
    {
     "name": "stdout",
     "output_type": "stream",
     "text": [
      "Enter a = 10\n",
      "Enter b = 0\n",
      "Enter + or - or * or / /\n",
      "The value of b can not be 0\n"
     ]
    }
   ],
   "source": [
    "a = int(input(\"Enter a = \"))\n",
    "b = int(input(\"Enter b = \"))\n",
    "o = input(\"Enter + or - or * or / \")\n",
    "if o == '+':\n",
    "    print(a+b)\n",
    "elif o == '-':\n",
    "    print(a-b)\n",
    "elif o == '*':\n",
    "    print(a*b)\n",
    "elif (o == '/') & (b!= 0):\n",
    "    print(a/b)\n",
    "elif (o == '/') & (b== 0):\n",
    "    print(\"The value of b can not be 0\")\n",
    "else:\n",
    "    print(\"Invalid operator \")"
   ]
  },
  {
   "cell_type": "code",
   "execution_count": 4,
   "id": "26bdb6ce",
   "metadata": {},
   "outputs": [
    {
     "name": "stdout",
     "output_type": "stream",
     "text": [
      "Enter n = -11\n",
      "The no is either odd or -ve\n"
     ]
    }
   ],
   "source": [
    "n = int(input(\"Enter n = \"))\n",
    "if n%2 == 0 or n>=0:\n",
    "    print(\"The no is either even or +ve\")\n",
    "else:\n",
    "    print(\"The no is either odd or -ve\")"
   ]
  },
  {
   "cell_type": "code",
   "execution_count": null,
   "id": "2a8819b6",
   "metadata": {},
   "outputs": [],
   "source": [
    "physics = int(input(\"Enter physics  marks = \"))\n",
    "chemistry = int(input(\"Enter chemistry marks = \"))\n",
    "math = int(input(\"Enter math marks = \"))\n",
    "english = int(input(\"Enter english marks = \"))\n",
    "nepali = int(input(\"Enter nepali marks =\"))\n",
    "total = physics+chemistry+math+english+nepali\n",
    "per = total/5\n",
    "if per > 80 or per==80:\n",
    "    grade = 'A'\n",
    "elif per > 60 or per==60:\n",
    "    grade = 'B'\n",
    "elif per > 50 or per == 50:\n",
    "    grade = 'C'\n",
    "else:\n",
    "    grade = 'F'\n",
    "    \n",
    "print(grade,\"Grade\")"
   ]
  },
  {
   "cell_type": "code",
   "execution_count": 5,
   "id": "807191dc",
   "metadata": {},
   "outputs": [],
   "source": [
    "# if <condation>:\n",
    "#     if <condition>:\n",
    "#         <operations>\n",
    "        \n",
    "#     else:\n",
    "#         <operations>\n",
    "# else:\n",
    "#     <operations>"
   ]
  },
  {
   "cell_type": "code",
   "execution_count": 7,
   "id": "3cf19517",
   "metadata": {},
   "outputs": [
    {
     "name": "stdout",
     "output_type": "stream",
     "text": [
      "Enter n = -11\n",
      "-11 is -ve and odd\n"
     ]
    }
   ],
   "source": [
    "n = int(input(\"Enter n = \"))\n",
    "if n>=0:\n",
    "    if n%2 == 0:\n",
    "        print(n,\"is +ve and even\")\n",
    "    else:\n",
    "        print(n,\"is +ve and odd\")\n",
    "else:\n",
    "    if n%2 != 0:\n",
    "        print(n,\"is -ve and odd\")\n",
    "    else:\n",
    "        print(n,\"is -ve and even\")"
   ]
  },
  {
   "cell_type": "code",
   "execution_count": null,
   "id": "2ca34f63",
   "metadata": {},
   "outputs": [],
   "source": [
    "a = int(input(\"Enter a = \"))\n",
    "b = int(input(\"Enter b = \"))\n",
    "o = input(\"Enter + or - or * or / \")\n",
    "if o == '+':\n",
    "    print(a+b)\n",
    "elif o == '-':\n",
    "    print(a-b)\n",
    "elif o == '*':\n",
    "    print(a*b)\n",
    "elif (o == '/'):\n",
    "    if b != 0:\n",
    "        print(a/b)\n",
    "    else:\n",
    "        print(\"The value of b can not be 0\")\n",
    "else:\n",
    "    print(\"Invalid operator \")"
   ]
  }
 ],
 "metadata": {
  "kernelspec": {
   "display_name": "Python 3 (ipykernel)",
   "language": "python",
   "name": "python3"
  },
  "language_info": {
   "codemirror_mode": {
    "name": "ipython",
    "version": 3
   },
   "file_extension": ".py",
   "mimetype": "text/x-python",
   "name": "python",
   "nbconvert_exporter": "python",
   "pygments_lexer": "ipython3",
   "version": "3.9.12"
  }
 },
 "nbformat": 4,
 "nbformat_minor": 5
}
